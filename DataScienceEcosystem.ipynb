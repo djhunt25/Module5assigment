{
  "metadata": {
    "kernelspec": {
      "name": "python",
      "display_name": "Python (Pyodide)",
      "language": "python"
    },
    "language_info": {
      "codemirror_mode": {
        "name": "python",
        "version": 3
      },
      "file_extension": ".py",
      "mimetype": "text/x-python",
      "name": "python",
      "nbconvert_exporter": "python",
      "pygments_lexer": "ipython3",
      "version": "3.8"
    }
  },
  "nbformat_minor": 4,
  "nbformat": 4,
  "cells": [
    {
      "cell_type": "markdown",
      "source": "# Data Science Tools and Ecosystem #",
      "metadata": {},
      "attachments": {}
    },
    {
      "cell_type": "markdown",
      "source": "### Author ###\nDaniel J Hunt",
      "metadata": {
        "scrolled": true
      }
    },
    {
      "cell_type": "markdown",
      "source": "In this notebook, Data Science Tools and Ecosystem are summarized",
      "metadata": {},
      "attachments": {}
    },
    {
      "cell_type": "markdown",
      "source": "**Objectives:**\n- Some popular data science languages\n- Some data science tools\n- Arithmetic exporessions\n- Hours to Ninutes",
      "metadata": {}
    },
    {
      "cell_type": "markdown",
      "source": "Some of the popular languages Data Scientist use are:\n1. Python\n2. R\n3. Java",
      "metadata": {}
    },
    {
      "cell_type": "markdown",
      "source": "Some of the commonly used libraries used by Data Scientists include:\n1. Pandas\n2. Matplotlib\n3. TensorFlow",
      "metadata": {},
      "attachments": {}
    },
    {
      "cell_type": "markdown",
      "source": "|Data Science Tools|\n|- |\n|R Studio|\n|Apache Spark|\n|Hadoop|",
      "metadata": {},
      "attachments": {}
    },
    {
      "cell_type": "markdown",
      "source": "### Below are a few examples of evaluating arithmetic expressions in Python ###",
      "metadata": {},
      "attachments": {}
    },
    {
      "cell_type": "code",
      "source": "\"This a simple arithmetic expression to mutiply then add integers\"\n(3*4)+5",
      "metadata": {
        "scrolled": true,
        "trusted": true
      },
      "outputs": [],
      "execution_count": null
    },
    {
      "cell_type": "code",
      "source": "\"This will convert 200 minutes to hours by diving by 60\"\n200/60",
      "metadata": {
        "trusted": true
      },
      "outputs": [
        {
          "execution_count": 1,
          "output_type": "execute_result",
          "data": {
            "text/plain": "3.3333333333333335"
          },
          "metadata": {}
        }
      ],
      "execution_count": 1
    },
    {
      "cell_type": "code",
      "source": "",
      "metadata": {
        "trusted": true
      },
      "outputs": [],
      "execution_count": null
    }
  ]
}